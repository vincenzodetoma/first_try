{
 "cells": [
  {
   "cell_type": "markdown",
   "metadata": {},
   "source": [
    "# Retrieving Datas for the Salinity anomalies for ORAS5"
   ]
  },
  {
   "cell_type": "markdown",
   "metadata": {},
   "source": [
    "Here we try to get datas for the construction and visualization of salinity anomalies with python, using ORAS5 monthly data from 1979 to 2017 globally at spatial resolution of 0.25 degree. We try to do it just for 1979"
   ]
  },
  {
   "cell_type": "code",
   "execution_count": null,
   "metadata": {},
   "outputs": [],
   "source": [
    "import xarray as xr\n",
    "import numpy as np\n",
    "import matplotlib.pyplot as plt\n",
    "import sys\n",
    "%matplotlib inline\n",
    "year_start=1979\n",
    "year_end=2017\n",
    "#ORCA025\n",
    "url=['http://icdc.cen.uni-hamburg.de/thredds/dodsC/ftpthredds/EASYInit/oras5/ORCA025/vosaline/opa0/vosaline_ORAS5_1m_'\n",
    "     +str(year)+str(\"{0:0=2d}\".format(month))+'_grid_T_02.nc' for year in range(year_start,year_end+1) \n",
    "     for month in range(1,12)]\n",
    "#REGULAR\n",
    "url_r=['http://icdc.cen.uni-hamburg.de/thredds/dodsC/ftpthredds/EASYInit/oras5/r1x1/vosaline/opa0/vosaline_ORAS5_1m_'\n",
    "     +str(year)+str(\"{0:0=2d}\".format(month))+'_r1x1.nc' for year in range(year_start,year_end+1) \n",
    "     for month in range(1,13)]\n",
    "ds=xr.open_mfdataset(url_r)"
   ]
  },
  {
   "cell_type": "markdown",
   "metadata": {},
   "source": [
    "We have loaded the multiple file dataset, so we go ahead calculating the mean map for the 1979 year: we load the variables of latitude, longitude, depth, time counter and the 4D salinity field:"
   ]
  },
  {
   "cell_type": "code",
   "execution_count": null,
   "metadata": {},
   "outputs": [],
   "source": [
    "ds"
   ]
  },
  {
   "cell_type": "code",
   "execution_count": null,
   "metadata": {},
   "outputs": [],
   "source": [
    "lat = ds.lat\n",
    "lon = ds.lon\n",
    "deptht = ds.deptht\n",
    "time_counter = ds.time_counter\n",
    "S = ds.vosaline"
   ]
  },
  {
   "cell_type": "markdown",
   "metadata": {},
   "source": [
    "If we want to make the climatology over the whole period"
   ]
  },
  {
   "cell_type": "code",
   "execution_count": null,
   "metadata": {},
   "outputs": [],
   "source": [
    "salinity_climatology = S.mean(dim='time_counter')\n",
    "np.shape(salinity_climatology)"
   ]
  },
  {
   "cell_type": "markdown",
   "metadata": {},
   "source": [
    "Then we can make the mean over the top 700m"
   ]
  },
  {
   "cell_type": "code",
   "execution_count": null,
   "metadata": {},
   "outputs": [],
   "source": [
    "sal700m = salinity_climatology.where(ds.deptht<700).mean(dim='deptht')\n",
    "np.shape(sal700m)"
   ]
  },
  {
   "cell_type": "code",
   "execution_count": null,
   "metadata": {},
   "outputs": [],
   "source": [
    "sal700m.plot()"
   ]
  },
  {
   "cell_type": "markdown",
   "metadata": {},
   "source": [
    "And finally plot on a nice projection"
   ]
  },
  {
   "cell_type": "code",
   "execution_count": null,
   "metadata": {},
   "outputs": [],
   "source": [
    "import cartopy.crs as ccrs\n",
    "f = plt.figure(figsize=(8, 4))\n",
    "ax = plt.axes(projection=ccrs.Orthographic(315, 26.5))\n",
    "sal700m.plot(ax=ax,\n",
    "             transform=ccrs.PlateCarree(),\n",
    "             cmap='Oranges')\n",
    "ax.coastlines(); ax.gridlines();"
   ]
  },
  {
   "cell_type": "code",
   "execution_count": null,
   "metadata": {},
   "outputs": [],
   "source": []
  }
 ],
 "metadata": {
  "kernelspec": {
   "display_name": "Python 3",
   "language": "python",
   "name": "python3"
  },
  "language_info": {
   "codemirror_mode": {
    "name": "ipython",
    "version": 3
   },
   "file_extension": ".py",
   "mimetype": "text/x-python",
   "name": "python",
   "nbconvert_exporter": "python",
   "pygments_lexer": "ipython3",
   "version": "3.6.8"
  }
 },
 "nbformat": 4,
 "nbformat_minor": 2
}
